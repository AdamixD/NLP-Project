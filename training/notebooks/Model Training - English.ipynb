{
 "cells": [
  {
   "cell_type": "markdown",
   "metadata": {
    "collapsed": false
   },
   "source": [
    "# Model Training"
   ]
  },
  {
   "cell_type": "code",
   "execution_count": 1,
   "outputs": [],
   "source": [
    "import pandas as pd\n",
    "\n",
    "from training.model import Model"
   ],
   "metadata": {
    "collapsed": false,
    "ExecuteTime": {
     "start_time": "2023-05-25T16:58:40.940737Z",
     "end_time": "2023-05-25T16:58:45.475860Z"
    }
   }
  },
  {
   "cell_type": "markdown",
   "metadata": {
    "collapsed": false
   },
   "source": [
    "#### 1. Creating dataset"
   ]
  },
  {
   "cell_type": "code",
   "execution_count": 2,
   "outputs": [],
   "source": [
    "COVID_PREPROCESSED_DATA_PATH = \"/Users/adamdabkowski/PycharmProjects/NLP-Project/data/preprocessed/covid\""
   ],
   "metadata": {
    "collapsed": false,
    "ExecuteTime": {
     "start_time": "2023-05-25T16:58:45.477104Z",
     "end_time": "2023-05-25T16:58:45.479594Z"
    }
   }
  },
  {
   "cell_type": "code",
   "execution_count": 3,
   "outputs": [],
   "source": [
    "data_json = pd.read_json(COVID_PREPROCESSED_DATA_PATH, orient=\"records\", lines=True)"
   ],
   "metadata": {
    "collapsed": false,
    "ExecuteTime": {
     "start_time": "2023-05-25T16:58:45.480564Z",
     "end_time": "2023-05-25T16:58:45.527928Z"
    }
   }
  },
  {
   "cell_type": "markdown",
   "metadata": {
    "collapsed": false
   },
   "source": [
    "##### 1.1 balanced dataset"
   ]
  },
  {
   "cell_type": "code",
   "execution_count": 4,
   "metadata": {
    "collapsed": false,
    "ExecuteTime": {
     "start_time": "2023-05-25T16:58:45.529718Z",
     "end_time": "2023-05-25T16:58:45.547305Z"
    }
   },
   "outputs": [
    {
     "data": {
      "text/plain": "                                                   text  label hashtags  \\\n187   The ESP tested less than 5 e of the inhabitant...      0       []   \n3110  Non immigrant like HOB visa pivotal to Post CO...      1       []   \n3016  Google launches COVID-9 page and search portal...      1       []   \n44    A picture allegedly showing a crowd in Berlin ...      0       []   \n3066  Rs 3 lake for COVID treatment e Delhi hospital...      1       []   \n...                                                 ...    ...      ...   \n3195  Maharashtra Reports 1st COVID-9 Cases e 344 De...      1       []   \n3146  Google Helps Place Ads on Sites Amplifying COV...      1       []   \n53    A picture allegedly showing a large crowd gath...      0       []   \n2951  e How to make COVID vaccine at home e among th...      1       []   \n3091  Google to offer paid leaves to employees who c...      1       []   \n\n     emojis  polarity  subjectivity sentiment  \n187      [] -0.166667      0.066667  negative  \n3110     []  0.500000      0.800000  positive  \n3016     []  0.500000      0.500000  positive  \n44       [] -0.050000      0.050000  negative  \n3066     []  0.000000      0.000000   neutral  \n...     ...       ...           ...       ...  \n3195     []  0.000000      0.000000   neutral  \n3146     []  0.000000      0.000000   neutral  \n53       []  0.057143      0.264286  positive  \n2951     []  0.500000      0.500000  positive  \n3091     [] -0.062500      0.187500  negative  \n\n[950 rows x 7 columns]",
      "text/html": "<div>\n<style scoped>\n    .dataframe tbody tr th:only-of-type {\n        vertical-align: middle;\n    }\n\n    .dataframe tbody tr th {\n        vertical-align: top;\n    }\n\n    .dataframe thead th {\n        text-align: right;\n    }\n</style>\n<table border=\"1\" class=\"dataframe\">\n  <thead>\n    <tr style=\"text-align: right;\">\n      <th></th>\n      <th>text</th>\n      <th>label</th>\n      <th>hashtags</th>\n      <th>emojis</th>\n      <th>polarity</th>\n      <th>subjectivity</th>\n      <th>sentiment</th>\n    </tr>\n  </thead>\n  <tbody>\n    <tr>\n      <th>187</th>\n      <td>The ESP tested less than 5 e of the inhabitant...</td>\n      <td>0</td>\n      <td>[]</td>\n      <td>[]</td>\n      <td>-0.166667</td>\n      <td>0.066667</td>\n      <td>negative</td>\n    </tr>\n    <tr>\n      <th>3110</th>\n      <td>Non immigrant like HOB visa pivotal to Post CO...</td>\n      <td>1</td>\n      <td>[]</td>\n      <td>[]</td>\n      <td>0.500000</td>\n      <td>0.800000</td>\n      <td>positive</td>\n    </tr>\n    <tr>\n      <th>3016</th>\n      <td>Google launches COVID-9 page and search portal...</td>\n      <td>1</td>\n      <td>[]</td>\n      <td>[]</td>\n      <td>0.500000</td>\n      <td>0.500000</td>\n      <td>positive</td>\n    </tr>\n    <tr>\n      <th>44</th>\n      <td>A picture allegedly showing a crowd in Berlin ...</td>\n      <td>0</td>\n      <td>[]</td>\n      <td>[]</td>\n      <td>-0.050000</td>\n      <td>0.050000</td>\n      <td>negative</td>\n    </tr>\n    <tr>\n      <th>3066</th>\n      <td>Rs 3 lake for COVID treatment e Delhi hospital...</td>\n      <td>1</td>\n      <td>[]</td>\n      <td>[]</td>\n      <td>0.000000</td>\n      <td>0.000000</td>\n      <td>neutral</td>\n    </tr>\n    <tr>\n      <th>...</th>\n      <td>...</td>\n      <td>...</td>\n      <td>...</td>\n      <td>...</td>\n      <td>...</td>\n      <td>...</td>\n      <td>...</td>\n    </tr>\n    <tr>\n      <th>3195</th>\n      <td>Maharashtra Reports 1st COVID-9 Cases e 344 De...</td>\n      <td>1</td>\n      <td>[]</td>\n      <td>[]</td>\n      <td>0.000000</td>\n      <td>0.000000</td>\n      <td>neutral</td>\n    </tr>\n    <tr>\n      <th>3146</th>\n      <td>Google Helps Place Ads on Sites Amplifying COV...</td>\n      <td>1</td>\n      <td>[]</td>\n      <td>[]</td>\n      <td>0.000000</td>\n      <td>0.000000</td>\n      <td>neutral</td>\n    </tr>\n    <tr>\n      <th>53</th>\n      <td>A picture allegedly showing a large crowd gath...</td>\n      <td>0</td>\n      <td>[]</td>\n      <td>[]</td>\n      <td>0.057143</td>\n      <td>0.264286</td>\n      <td>positive</td>\n    </tr>\n    <tr>\n      <th>2951</th>\n      <td>e How to make COVID vaccine at home e among th...</td>\n      <td>1</td>\n      <td>[]</td>\n      <td>[]</td>\n      <td>0.500000</td>\n      <td>0.500000</td>\n      <td>positive</td>\n    </tr>\n    <tr>\n      <th>3091</th>\n      <td>Google to offer paid leaves to employees who c...</td>\n      <td>1</td>\n      <td>[]</td>\n      <td>[]</td>\n      <td>-0.062500</td>\n      <td>0.187500</td>\n      <td>negative</td>\n    </tr>\n  </tbody>\n</table>\n<p>950 rows × 7 columns</p>\n</div>"
     },
     "execution_count": 4,
     "metadata": {},
     "output_type": "execute_result"
    }
   ],
   "source": [
    "dataset_1 = data_json.loc[data_json['label'] == 1].head(476)\n",
    "dataset_2 = data_json.loc[data_json['label'] == 0].head(476)\n",
    "\n",
    "dataset = pd.concat([dataset_1, dataset_2])\n",
    "dataset = dataset.sample(frac=1, random_state=10)\n",
    "dataset"
   ]
  },
  {
   "cell_type": "markdown",
   "metadata": {
    "collapsed": false
   },
   "source": [
    "##### 1.2 full dataset"
   ]
  },
  {
   "cell_type": "code",
   "execution_count": 10,
   "metadata": {
    "collapsed": false,
    "ExecuteTime": {
     "start_time": "2023-05-22T23:26:50.363542Z",
     "end_time": "2023-05-22T23:26:50.403468Z"
    }
   },
   "outputs": [
    {
     "data": {
      "text/plain": "                                                   text  label hashtags  \\\n9626  The label on Detox disinfectant spray claims i...      0       []   \n4199  The largest hole in the ozone layer over the A...      0       []   \n2849     The flu din e t kill any Americans this year e      0       []   \n9952  e Cocaine kills coronavirus e scientists are s...      0       []   \n9715  Photos show coronavirus is found in broiler ch...      0       []   \n...                                                 ...    ...      ...   \n9371  Exactly every 100 years e a viral epidemic bre...      0       []   \n7276  Washington admits it is the responsible for CO...      0       []   \n870   Photo of a man trying to resurrect his grandmo...      0       []   \n7278  George Sores is one of the people responsible ...      0       []   \n815   The Hague Tribunal has accepted a complaint ag...      0       []   \n\n     emojis  polarity  subjectivity sentiment  \n9626     []  0.136364      0.454545  positive  \n4199     [] -0.140278      0.331944  negative  \n2849     []  0.000000      0.000000   neutral  \n9952     [] -0.700000      0.800000  negative  \n9715     [] -0.600000      0.950000  negative  \n...     ...       ...           ...       ...  \n9371     []  0.250000      0.250000  positive  \n7276     []  0.200000      0.550000  positive  \n870      []  0.000000      0.000000   neutral  \n7278     []  0.168182      0.502273  positive  \n815      [] -0.150000      0.100000  negative  \n\n[10201 rows x 7 columns]",
      "text/html": "<div>\n<style scoped>\n    .dataframe tbody tr th:only-of-type {\n        vertical-align: middle;\n    }\n\n    .dataframe tbody tr th {\n        vertical-align: top;\n    }\n\n    .dataframe thead th {\n        text-align: right;\n    }\n</style>\n<table border=\"1\" class=\"dataframe\">\n  <thead>\n    <tr style=\"text-align: right;\">\n      <th></th>\n      <th>text</th>\n      <th>label</th>\n      <th>hashtags</th>\n      <th>emojis</th>\n      <th>polarity</th>\n      <th>subjectivity</th>\n      <th>sentiment</th>\n    </tr>\n  </thead>\n  <tbody>\n    <tr>\n      <th>9626</th>\n      <td>The label on Detox disinfectant spray claims i...</td>\n      <td>0</td>\n      <td>[]</td>\n      <td>[]</td>\n      <td>0.136364</td>\n      <td>0.454545</td>\n      <td>positive</td>\n    </tr>\n    <tr>\n      <th>4199</th>\n      <td>The largest hole in the ozone layer over the A...</td>\n      <td>0</td>\n      <td>[]</td>\n      <td>[]</td>\n      <td>-0.140278</td>\n      <td>0.331944</td>\n      <td>negative</td>\n    </tr>\n    <tr>\n      <th>2849</th>\n      <td>The flu din e t kill any Americans this year e</td>\n      <td>0</td>\n      <td>[]</td>\n      <td>[]</td>\n      <td>0.000000</td>\n      <td>0.000000</td>\n      <td>neutral</td>\n    </tr>\n    <tr>\n      <th>9952</th>\n      <td>e Cocaine kills coronavirus e scientists are s...</td>\n      <td>0</td>\n      <td>[]</td>\n      <td>[]</td>\n      <td>-0.700000</td>\n      <td>0.800000</td>\n      <td>negative</td>\n    </tr>\n    <tr>\n      <th>9715</th>\n      <td>Photos show coronavirus is found in broiler ch...</td>\n      <td>0</td>\n      <td>[]</td>\n      <td>[]</td>\n      <td>-0.600000</td>\n      <td>0.950000</td>\n      <td>negative</td>\n    </tr>\n    <tr>\n      <th>...</th>\n      <td>...</td>\n      <td>...</td>\n      <td>...</td>\n      <td>...</td>\n      <td>...</td>\n      <td>...</td>\n      <td>...</td>\n    </tr>\n    <tr>\n      <th>9371</th>\n      <td>Exactly every 100 years e a viral epidemic bre...</td>\n      <td>0</td>\n      <td>[]</td>\n      <td>[]</td>\n      <td>0.250000</td>\n      <td>0.250000</td>\n      <td>positive</td>\n    </tr>\n    <tr>\n      <th>7276</th>\n      <td>Washington admits it is the responsible for CO...</td>\n      <td>0</td>\n      <td>[]</td>\n      <td>[]</td>\n      <td>0.200000</td>\n      <td>0.550000</td>\n      <td>positive</td>\n    </tr>\n    <tr>\n      <th>870</th>\n      <td>Photo of a man trying to resurrect his grandmo...</td>\n      <td>0</td>\n      <td>[]</td>\n      <td>[]</td>\n      <td>0.000000</td>\n      <td>0.000000</td>\n      <td>neutral</td>\n    </tr>\n    <tr>\n      <th>7278</th>\n      <td>George Sores is one of the people responsible ...</td>\n      <td>0</td>\n      <td>[]</td>\n      <td>[]</td>\n      <td>0.168182</td>\n      <td>0.502273</td>\n      <td>positive</td>\n    </tr>\n    <tr>\n      <th>815</th>\n      <td>The Hague Tribunal has accepted a complaint ag...</td>\n      <td>0</td>\n      <td>[]</td>\n      <td>[]</td>\n      <td>-0.150000</td>\n      <td>0.100000</td>\n      <td>negative</td>\n    </tr>\n  </tbody>\n</table>\n<p>10201 rows × 7 columns</p>\n</div>"
     },
     "execution_count": 10,
     "metadata": {},
     "output_type": "execute_result"
    }
   ],
   "source": [
    "dataset_1_full = data_json.loc[data_json['label'] == 1]\n",
    "dataset_2_full = data_json.loc[data_json['label'] == 0]\n",
    "\n",
    "dataset_full = pd.concat([dataset_1_full, dataset_2_full])\n",
    "dataset_full = dataset_full.sample(frac=1, random_state=10)\n",
    "dataset_full"
   ]
  },
  {
   "cell_type": "markdown",
   "metadata": {
    "collapsed": false
   },
   "source": [
    "#### 2. bert-base-multilingual-uncased (v1)"
   ]
  },
  {
   "cell_type": "markdown",
   "metadata": {
    "collapsed": false
   },
   "source": [
    "##### 2.1 balanced dataset"
   ]
  },
  {
   "cell_type": "code",
   "execution_count": 6,
   "metadata": {
    "collapsed": false
   },
   "outputs": [
    {
     "name": "stderr",
     "output_type": "stream",
     "text": [
      "All model checkpoint layers were used when initializing TFBertForSequenceClassification.\n",
      "\n",
      "Some layers of TFBertForSequenceClassification were not initialized from the model checkpoint at bert-base-multilingual-uncased and are newly initialized: ['classifier']\n",
      "You should probably TRAIN this model on a down-stream task to be able to use it for predictions and inference.\n"
     ]
    }
   ],
   "source": [
    "model_v1 = Model(model_path=\"bert-base-multilingual-uncased\")"
   ]
  },
  {
   "cell_type": "code",
   "execution_count": 7,
   "metadata": {
    "collapsed": false
   },
   "outputs": [
    {
     "name": "stderr",
     "output_type": "stream",
     "text": [
      "WARNING:absl:Found untraced functions such as embeddings_layer_call_fn, embeddings_layer_call_and_return_conditional_losses, encoder_layer_call_fn, encoder_layer_call_and_return_conditional_losses, pooler_layer_call_fn while saving (showing 5 of 420). These functions will not be directly callable after loading.\n"
     ]
    },
    {
     "name": "stdout",
     "output_type": "stream",
     "text": [
      "INFO:tensorflow:Assets written to: ram://474abe84-be6c-4e49-8013-be633f3bd8e7/assets\n"
     ]
    },
    {
     "name": "stderr",
     "output_type": "stream",
     "text": [
      "INFO:tensorflow:Assets written to: ram://474abe84-be6c-4e49-8013-be633f3bd8e7/assets\n"
     ]
    },
    {
     "data": {
      "application/vnd.jupyter.widget-view+json": {
       "model_id": "a1c1b24117f84cec98f3c49510507d04",
       "version_major": 2,
       "version_minor": 0
      },
      "text/plain": [
       "Map:   0%|          | 0/760 [00:00<?, ? examples/s]"
      ]
     },
     "metadata": {},
     "output_type": "display_data"
    },
    {
     "name": "stderr",
     "output_type": "stream",
     "text": [
      "You're using a BertTokenizerFast tokenizer. Please note that with a fast tokenizer, using the `__call__` method is faster than using a method to encode the text followed by a call to the `pad` method to get a padded encoding.\n",
      "WARNING:absl:Found untraced functions such as embeddings_layer_call_fn, embeddings_layer_call_and_return_conditional_losses, encoder_layer_call_fn, encoder_layer_call_and_return_conditional_losses, pooler_layer_call_fn while saving (showing 5 of 420). These functions will not be directly callable after loading.\n"
     ]
    },
    {
     "name": "stdout",
     "output_type": "stream",
     "text": [
      "INFO:tensorflow:Assets written to: ram://db3ca6e3-d0d7-46ad-a950-17e61bb3b075/assets\n"
     ]
    },
    {
     "name": "stderr",
     "output_type": "stream",
     "text": [
      "INFO:tensorflow:Assets written to: ram://db3ca6e3-d0d7-46ad-a950-17e61bb3b075/assets\n"
     ]
    },
    {
     "data": {
      "application/vnd.jupyter.widget-view+json": {
       "model_id": "4847fd57d6cc4b38b9afdaf5967ab8c2",
       "version_major": 2,
       "version_minor": 0
      },
      "text/plain": [
       "Map:   0%|          | 0/190 [00:00<?, ? examples/s]"
      ]
     },
     "metadata": {},
     "output_type": "display_data"
    }
   ],
   "source": [
    "tf_train_v1, tf_test_v1 = model_v1.prepare_train_test_data(dataset)"
   ]
  },
  {
   "cell_type": "code",
   "execution_count": 8,
   "metadata": {
    "collapsed": false
   },
   "outputs": [
    {
     "name": "stdout",
     "output_type": "stream",
     "text": [
      "Epoch 1/5\n",
      "47/47 [==============================] - 37s 495ms/step - loss: 0.3503 - accuracy: 0.8617 - f1_m: 0.5302 - val_loss: 0.2685 - val_accuracy: 0.9034 - val_f1_m: 0.6713\n",
      "Epoch 2/5\n",
      "47/47 [==============================] - 20s 432ms/step - loss: 0.1216 - accuracy: 0.9535 - f1_m: 0.6532 - val_loss: 0.1866 - val_accuracy: 0.9318 - val_f1_m: 0.6647\n",
      "Epoch 3/5\n",
      "47/47 [==============================] - 20s 421ms/step - loss: 0.0493 - accuracy: 0.9827 - f1_m: 0.6467 - val_loss: 0.3766 - val_accuracy: 0.9034 - val_f1_m: 0.6744\n",
      "Epoch 4/5\n",
      "47/47 [==============================] - 20s 432ms/step - loss: 0.0121 - accuracy: 0.9973 - f1_m: 0.6493 - val_loss: 0.3765 - val_accuracy: 0.9091 - val_f1_m: 0.6783\n",
      "Epoch 5/5\n",
      "47/47 [==============================] - 20s 424ms/step - loss: 0.0019 - accuracy: 1.0000 - f1_m: 0.6499 - val_loss: 0.4645 - val_accuracy: 0.9034 - val_f1_m: 0.6682\n"
     ]
    },
    {
     "data": {
      "text/plain": [
       "<keras.callbacks.History at 0x28e04b57c70>"
      ]
     },
     "execution_count": 8,
     "metadata": {},
     "output_type": "execute_result"
    }
   ],
   "source": [
    "model_v1.compile()\n",
    "model_v1.fit(train_data=tf_train_v1, epochs=5, validation_data=tf_test_v1)"
   ]
  },
  {
   "cell_type": "code",
   "execution_count": 9,
   "metadata": {
    "collapsed": false
   },
   "outputs": [],
   "source": [
    "text = \"WhatsApp censors the messages that circulate on its platform if it believes that they are hoaxes with the help of the media that verify false information in Spain.\" # 0"
   ]
  },
  {
   "cell_type": "code",
   "execution_count": 11,
   "metadata": {
    "collapsed": false
   },
   "outputs": [
    {
     "name": "stdout",
     "output_type": "stream",
     "text": [
      "Predicted class: 0\n",
      "Probability distribution: [9.9925196e-01 7.4803270e-04]\n"
     ]
    }
   ],
   "source": [
    "prediction_1 = model_v1.classify_text(text=text)"
   ]
  },
  {
   "cell_type": "code",
   "execution_count": 12,
   "metadata": {
    "collapsed": false
   },
   "outputs": [],
   "source": [
    "text = \"Coronavirus: New Covid-19 tracing tool appears on smartphones\" # 1"
   ]
  },
  {
   "cell_type": "code",
   "execution_count": 13,
   "metadata": {
    "collapsed": false
   },
   "outputs": [
    {
     "name": "stdout",
     "output_type": "stream",
     "text": [
      "Predicted class: 1\n",
      "Probability distribution: [0.00115485 0.99884516]\n"
     ]
    }
   ],
   "source": [
    "prediction_2 = model_v1.classify_text(text=text)"
   ]
  },
  {
   "cell_type": "code",
   "execution_count": 14,
   "metadata": {
    "collapsed": false
   },
   "outputs": [],
   "source": [
    "COVID_MODEL_V1_PATH = \"model/covid/model_v1.h5py\""
   ]
  },
  {
   "cell_type": "code",
   "execution_count": 15,
   "metadata": {
    "collapsed": false
   },
   "outputs": [],
   "source": [
    "model_v1.save_model(COVID_MODEL_V1_PATH)"
   ]
  },
  {
   "cell_type": "markdown",
   "metadata": {
    "collapsed": false
   },
   "source": [
    "##### 2.2 full dataset"
   ]
  },
  {
   "cell_type": "code",
   "execution_count": 4,
   "metadata": {
    "collapsed": false
   },
   "outputs": [
    {
     "name": "stderr",
     "output_type": "stream",
     "text": [
      "All model checkpoint layers were used when initializing TFBertForSequenceClassification.\n",
      "\n",
      "Some layers of TFBertForSequenceClassification were not initialized from the model checkpoint at bert-base-multilingual-uncased and are newly initialized: ['classifier']\n",
      "You should probably TRAIN this model on a down-stream task to be able to use it for predictions and inference.\n"
     ]
    }
   ],
   "source": [
    "model_full_v1 = Model(model_path=\"bert-base-multilingual-uncased\")"
   ]
  },
  {
   "cell_type": "code",
   "execution_count": 5,
   "metadata": {
    "collapsed": false
   },
   "outputs": [
    {
     "name": "stderr",
     "output_type": "stream",
     "text": [
      "WARNING:absl:Found untraced functions such as embeddings_layer_call_fn, embeddings_layer_call_and_return_conditional_losses, encoder_layer_call_fn, encoder_layer_call_and_return_conditional_losses, pooler_layer_call_fn while saving (showing 5 of 420). These functions will not be directly callable after loading.\n"
     ]
    },
    {
     "name": "stdout",
     "output_type": "stream",
     "text": [
      "INFO:tensorflow:Assets written to: ram://58238f8d-8c0a-45d9-af23-d7a0f3daae6e/assets\n"
     ]
    },
    {
     "name": "stderr",
     "output_type": "stream",
     "text": [
      "INFO:tensorflow:Assets written to: ram://58238f8d-8c0a-45d9-af23-d7a0f3daae6e/assets\n"
     ]
    },
    {
     "data": {
      "application/vnd.jupyter.widget-view+json": {
       "model_id": "eb5fd7aebe4b49d5a7a35cd8f078ec72",
       "version_major": 2,
       "version_minor": 0
      },
      "text/plain": [
       "Map:   0%|          | 0/8160 [00:00<?, ? examples/s]"
      ]
     },
     "metadata": {},
     "output_type": "display_data"
    },
    {
     "name": "stderr",
     "output_type": "stream",
     "text": [
      "You're using a BertTokenizerFast tokenizer. Please note that with a fast tokenizer, using the `__call__` method is faster than using a method to encode the text followed by a call to the `pad` method to get a padded encoding.\n",
      "WARNING:absl:Found untraced functions such as embeddings_layer_call_fn, embeddings_layer_call_and_return_conditional_losses, encoder_layer_call_fn, encoder_layer_call_and_return_conditional_losses, pooler_layer_call_fn while saving (showing 5 of 420). These functions will not be directly callable after loading.\n"
     ]
    },
    {
     "name": "stdout",
     "output_type": "stream",
     "text": [
      "INFO:tensorflow:Assets written to: ram://f0355d65-f0b7-4e18-8fea-8a7e3ebfd436/assets\n"
     ]
    },
    {
     "name": "stderr",
     "output_type": "stream",
     "text": [
      "INFO:tensorflow:Assets written to: ram://f0355d65-f0b7-4e18-8fea-8a7e3ebfd436/assets\n"
     ]
    },
    {
     "data": {
      "application/vnd.jupyter.widget-view+json": {
       "model_id": "01313f1ed9fb44a3b309f459d38e8c21",
       "version_major": 2,
       "version_minor": 0
      },
      "text/plain": [
       "Map:   0%|          | 0/2041 [00:00<?, ? examples/s]"
      ]
     },
     "metadata": {},
     "output_type": "display_data"
    }
   ],
   "source": [
    "tf_train_full_v1, tf_test_full_v1 = model_full_v1.prepare_train_test_data(dataset_full)"
   ]
  },
  {
   "cell_type": "code",
   "execution_count": null,
   "metadata": {
    "collapsed": false
   },
   "outputs": [],
   "source": [
    "model_full_v1.compile()\n",
    "model_full_v1.fit(train_data=tf_train_full_v1, epochs=5, validation_data=tf_test_full_v1)"
   ]
  },
  {
   "cell_type": "code",
   "execution_count": null,
   "metadata": {
    "collapsed": false
   },
   "outputs": [],
   "source": [
    "text = \"WhatsApp censors the messages that circulate on its platform if it believes that they are hoaxes with the help of the media that verify false information in Spain.\" # 0"
   ]
  },
  {
   "cell_type": "code",
   "execution_count": null,
   "metadata": {
    "collapsed": false
   },
   "outputs": [],
   "source": [
    "prediction_1 = model_full_v1.classify_text(text=text)"
   ]
  },
  {
   "cell_type": "code",
   "execution_count": null,
   "metadata": {
    "collapsed": false
   },
   "outputs": [],
   "source": [
    "text = \"Coronavirus: New Covid-19 tracing tool appears on smartphones\" # 1"
   ]
  },
  {
   "cell_type": "code",
   "execution_count": null,
   "metadata": {
    "collapsed": false
   },
   "outputs": [],
   "source": [
    "prediction_2 = model_full_v1.classify_text(text=text)"
   ]
  },
  {
   "cell_type": "code",
   "execution_count": null,
   "metadata": {
    "collapsed": false
   },
   "outputs": [],
   "source": [
    "COVID_MODEL_FULL_V1_PATH = \"model/covid/model_full_v1.h5py\""
   ]
  },
  {
   "cell_type": "code",
   "execution_count": null,
   "metadata": {
    "collapsed": false
   },
   "outputs": [],
   "source": [
    "model_full_v1.save_model(COVID_MODEL_FULL_V1_PATH)"
   ]
  },
  {
   "cell_type": "markdown",
   "metadata": {
    "collapsed": false
   },
   "source": [
    "#### 3. XLM-RoBERTa (v2)"
   ]
  },
  {
   "cell_type": "markdown",
   "metadata": {
    "collapsed": false
   },
   "source": [
    "##### 3.1 balanced dataset"
   ]
  },
  {
   "cell_type": "code",
   "execution_count": 4,
   "metadata": {
    "collapsed": false,
    "ExecuteTime": {
     "start_time": "2023-05-20T14:59:04.916659Z",
     "end_time": "2023-05-20T14:59:10.796475Z"
    }
   },
   "outputs": [
    {
     "name": "stderr",
     "output_type": "stream",
     "text": [
      "2023-05-20 14:59:05.512778: I tensorflow/core/platform/cpu_feature_guard.cc:193] This TensorFlow binary is optimized with oneAPI Deep Neural Network Library (oneDNN) to use the following CPU instructions in performance-critical operations:  SSE4.1 SSE4.2\n",
      "To enable them in other operations, rebuild TensorFlow with the appropriate compiler flags.\n",
      "All model checkpoint layers were used when initializing TFXLMRobertaForSequenceClassification.\n",
      "\n",
      "Some layers of TFXLMRobertaForSequenceClassification were not initialized from the model checkpoint at xlm-roberta-base and are newly initialized: ['classifier']\n",
      "You should probably TRAIN this model on a down-stream task to be able to use it for predictions and inference.\n"
     ]
    }
   ],
   "source": [
    "model_v2 = Model(model_path=\"xlm-roberta-base\")"
   ]
  },
  {
   "cell_type": "code",
   "execution_count": 5,
   "metadata": {
    "collapsed": false,
    "ExecuteTime": {
     "start_time": "2023-05-20T14:59:10.798802Z",
     "end_time": "2023-05-20T15:00:06.033420Z"
    }
   },
   "outputs": [
    {
     "name": "stderr",
     "output_type": "stream",
     "text": [
      "WARNING:absl:Found untraced functions such as encoder_layer_call_fn, encoder_layer_call_and_return_conditional_losses, embeddings_layer_call_fn, embeddings_layer_call_and_return_conditional_losses, dense_layer_call_fn while saving (showing 5 of 422). These functions will not be directly callable after loading.\n"
     ]
    },
    {
     "name": "stdout",
     "output_type": "stream",
     "text": [
      "INFO:tensorflow:Assets written to: ram://afb82f8b-54d2-4415-b6dc-1193c42baa2f/assets\n"
     ]
    },
    {
     "name": "stderr",
     "output_type": "stream",
     "text": [
      "INFO:tensorflow:Assets written to: ram://afb82f8b-54d2-4415-b6dc-1193c42baa2f/assets\n"
     ]
    },
    {
     "data": {
      "text/plain": "Map:   0%|          | 0/760 [00:00<?, ? examples/s]",
      "application/vnd.jupyter.widget-view+json": {
       "version_major": 2,
       "version_minor": 0,
       "model_id": "190ae235741c4d74953903f29cf660d6"
      }
     },
     "metadata": {},
     "output_type": "display_data"
    },
    {
     "name": "stderr",
     "output_type": "stream",
     "text": [
      "You're using a XLMRobertaTokenizerFast tokenizer. Please note that with a fast tokenizer, using the `__call__` method is faster than using a method to encode the text followed by a call to the `pad` method to get a padded encoding.\n",
      "WARNING:absl:Found untraced functions such as encoder_layer_call_fn, encoder_layer_call_and_return_conditional_losses, embeddings_layer_call_fn, embeddings_layer_call_and_return_conditional_losses, dense_layer_call_fn while saving (showing 5 of 422). These functions will not be directly callable after loading.\n"
     ]
    },
    {
     "name": "stdout",
     "output_type": "stream",
     "text": [
      "INFO:tensorflow:Assets written to: ram://d454cb68-4b86-4253-a17c-c88acf9dbc52/assets\n"
     ]
    },
    {
     "name": "stderr",
     "output_type": "stream",
     "text": [
      "INFO:tensorflow:Assets written to: ram://d454cb68-4b86-4253-a17c-c88acf9dbc52/assets\n"
     ]
    },
    {
     "data": {
      "text/plain": "Map:   0%|          | 0/190 [00:00<?, ? examples/s]",
      "application/vnd.jupyter.widget-view+json": {
       "version_major": 2,
       "version_minor": 0,
       "model_id": "f0f22ed23b2648d99ed674f3d674d0ad"
      }
     },
     "metadata": {},
     "output_type": "display_data"
    }
   ],
   "source": [
    "tf_train_v2, tf_test_v2 = model_v2.prepare_train_test_data(dataset)"
   ]
  },
  {
   "cell_type": "code",
   "execution_count": 6,
   "metadata": {
    "collapsed": false,
    "ExecuteTime": {
     "start_time": "2023-05-20T15:00:06.040260Z",
     "end_time": "2023-05-20T15:23:00.086996Z"
    }
   },
   "outputs": [
    {
     "name": "stdout",
     "output_type": "stream",
     "text": [
      "Epoch 1/5\n",
      "47/47 [==============================] - 273s 6s/step - loss: 0.5997 - accuracy: 0.6928 - f1_m: 0.3046 - val_loss: 0.3804 - val_accuracy: 0.9148 - val_f1_m: 0.9123\n",
      "Epoch 2/5\n",
      "47/47 [==============================] - 264s 6s/step - loss: 0.4452 - accuracy: 0.8152 - f1_m: 0.6385 - val_loss: 0.6868 - val_accuracy: 0.5227 - val_f1_m: 0.0242\n",
      "Epoch 3/5\n",
      "47/47 [==============================] - 275s 6s/step - loss: 0.3485 - accuracy: 0.8351 - f1_m: 0.4901 - val_loss: 0.1676 - val_accuracy: 0.9318 - val_f1_m: 0.6919\n",
      "Epoch 4/5\n",
      "47/47 [==============================] - 278s 6s/step - loss: 0.1720 - accuracy: 0.9441 - f1_m: 0.6320 - val_loss: 0.1386 - val_accuracy: 0.9602 - val_f1_m: 0.6669\n",
      "Epoch 5/5\n",
      "47/47 [==============================] - 284s 6s/step - loss: 0.1095 - accuracy: 0.9694 - f1_m: 0.6351 - val_loss: 0.1280 - val_accuracy: 0.9773 - val_f1_m: 0.6873\n"
     ]
    },
    {
     "data": {
      "text/plain": "<keras.callbacks.History at 0x7fc0215b7940>"
     },
     "execution_count": 6,
     "metadata": {},
     "output_type": "execute_result"
    }
   ],
   "source": [
    "model_v2.compile()\n",
    "model_v2.fit(train_data=tf_train_v2, epochs=5, validation_data=tf_test_v2)"
   ]
  },
  {
   "cell_type": "code",
   "execution_count": 7,
   "metadata": {
    "collapsed": false,
    "ExecuteTime": {
     "start_time": "2023-05-20T15:23:00.083221Z",
     "end_time": "2023-05-20T15:23:00.088701Z"
    }
   },
   "outputs": [],
   "source": [
    "text = \"WhatsApp censors the messages that circulate on its platform if it believes that they are hoaxes with the help of the media that verify false information in Spain.\" # 0"
   ]
  },
  {
   "cell_type": "code",
   "execution_count": 8,
   "metadata": {
    "collapsed": false,
    "ExecuteTime": {
     "start_time": "2023-05-20T15:23:00.088269Z",
     "end_time": "2023-05-20T15:23:00.257100Z"
    }
   },
   "outputs": [
    {
     "name": "stdout",
     "output_type": "stream",
     "text": [
      "Predicted class: 0\n",
      "Probability distribution: [0.99733955 0.00266042]\n"
     ]
    }
   ],
   "source": [
    "prediction_1 = model_v2.classify_text(text=text)"
   ]
  },
  {
   "cell_type": "code",
   "execution_count": 9,
   "metadata": {
    "collapsed": false,
    "ExecuteTime": {
     "start_time": "2023-05-20T15:23:00.254468Z",
     "end_time": "2023-05-20T15:23:00.257393Z"
    }
   },
   "outputs": [],
   "source": [
    "text = \"Coronavirus: New Covid-19 tracing tool appears on smartphones\" # 1"
   ]
  },
  {
   "cell_type": "code",
   "execution_count": 10,
   "metadata": {
    "collapsed": false,
    "ExecuteTime": {
     "start_time": "2023-05-20T15:23:00.257284Z",
     "end_time": "2023-05-20T15:23:00.373254Z"
    }
   },
   "outputs": [
    {
     "name": "stdout",
     "output_type": "stream",
     "text": [
      "Predicted class: 1\n",
      "Probability distribution: [0.00473887 0.99526113]\n"
     ]
    }
   ],
   "source": [
    "prediction_2 = model_v2.classify_text(text=text)"
   ]
  },
  {
   "cell_type": "code",
   "execution_count": 11,
   "metadata": {
    "collapsed": false,
    "ExecuteTime": {
     "start_time": "2023-05-20T15:23:00.370986Z",
     "end_time": "2023-05-20T15:23:00.373560Z"
    }
   },
   "outputs": [],
   "source": [
    "COVID_MODEL_V2_PATH = \"model/covid/model_v2.h5py\""
   ]
  },
  {
   "cell_type": "code",
   "execution_count": 12,
   "metadata": {
    "collapsed": false,
    "ExecuteTime": {
     "start_time": "2023-05-20T15:23:55.799513Z",
     "end_time": "2023-05-20T15:23:59.045820Z"
    }
   },
   "outputs": [],
   "source": [
    "model_v2.save_model(COVID_MODEL_V2_PATH)"
   ]
  },
  {
   "cell_type": "markdown",
   "metadata": {
    "collapsed": false
   },
   "source": [
    "#### 4. distilbert-base-multilingual-cased (v3)"
   ]
  },
  {
   "cell_type": "markdown",
   "metadata": {
    "collapsed": false
   },
   "source": [
    "##### 4.1 balanced dataset"
   ]
  },
  {
   "cell_type": "code",
   "execution_count": 5,
   "metadata": {
    "collapsed": false,
    "ExecuteTime": {
     "start_time": "2023-05-25T16:59:33.387106Z",
     "end_time": "2023-05-25T16:59:36.147543Z"
    }
   },
   "outputs": [
    {
     "name": "stderr",
     "output_type": "stream",
     "text": [
      "2023-05-25 16:59:33.775289: I tensorflow/core/platform/cpu_feature_guard.cc:193] This TensorFlow binary is optimized with oneAPI Deep Neural Network Library (oneDNN) to use the following CPU instructions in performance-critical operations:  SSE4.1 SSE4.2\n",
      "To enable them in other operations, rebuild TensorFlow with the appropriate compiler flags.\n",
      "Some layers from the model checkpoint at distilbert-base-multilingual-cased were not used when initializing TFDistilBertForSequenceClassification: ['vocab_projector', 'activation_13', 'vocab_layer_norm', 'vocab_transform']\n",
      "- This IS expected if you are initializing TFDistilBertForSequenceClassification from the checkpoint of a model trained on another task or with another architecture (e.g. initializing a BertForSequenceClassification model from a BertForPreTraining model).\n",
      "- This IS NOT expected if you are initializing TFDistilBertForSequenceClassification from the checkpoint of a model that you expect to be exactly identical (initializing a BertForSequenceClassification model from a BertForSequenceClassification model).\n",
      "Some layers of TFDistilBertForSequenceClassification were not initialized from the model checkpoint at distilbert-base-multilingual-cased and are newly initialized: ['classifier', 'dropout_19', 'pre_classifier']\n",
      "You should probably TRAIN this model on a down-stream task to be able to use it for predictions and inference.\n"
     ]
    }
   ],
   "source": [
    "model_v3 = Model(model_path=\"distilbert-base-multilingual-cased\")"
   ]
  },
  {
   "cell_type": "code",
   "execution_count": 6,
   "metadata": {
    "collapsed": false,
    "ExecuteTime": {
     "start_time": "2023-05-25T16:59:36.149273Z",
     "end_time": "2023-05-25T17:00:03.879134Z"
    }
   },
   "outputs": [
    {
     "name": "stdout",
     "output_type": "stream",
     "text": [
      "WARNING:tensorflow:Skipping full serialization of Keras layer <keras.layers.regularization.dropout.Dropout object at 0x7fc8013d1120>, because it is not built.\n",
      "WARNING:tensorflow:Skipping full serialization of Keras layer <keras.layers.regularization.dropout.Dropout object at 0x7fc8013d3610>, because it is not built.\n",
      "WARNING:tensorflow:Skipping full serialization of Keras layer <keras.layers.regularization.dropout.Dropout object at 0x7fc8279d5a50>, because it is not built.\n",
      "WARNING:tensorflow:Skipping full serialization of Keras layer <keras.layers.regularization.dropout.Dropout object at 0x7fc8279d7e50>, because it is not built.\n",
      "WARNING:tensorflow:Skipping full serialization of Keras layer <keras.layers.regularization.dropout.Dropout object at 0x7fc8016fa290>, because it is not built.\n",
      "WARNING:tensorflow:Skipping full serialization of Keras layer <keras.layers.regularization.dropout.Dropout object at 0x7fc8017006d0>, because it is not built.\n"
     ]
    },
    {
     "name": "stderr",
     "output_type": "stream",
     "text": [
      "WARNING:absl:Found untraced functions such as embeddings_layer_call_fn, embeddings_layer_call_and_return_conditional_losses, transformer_layer_call_fn, transformer_layer_call_and_return_conditional_losses, LayerNorm_layer_call_fn while saving (showing 5 of 164). These functions will not be directly callable after loading.\n"
     ]
    },
    {
     "name": "stdout",
     "output_type": "stream",
     "text": [
      "INFO:tensorflow:Assets written to: ram://ebd2a3e9-c9a9-436a-80d5-7a7ccf1f80a4/assets\n"
     ]
    },
    {
     "name": "stderr",
     "output_type": "stream",
     "text": [
      "INFO:tensorflow:Assets written to: ram://ebd2a3e9-c9a9-436a-80d5-7a7ccf1f80a4/assets\n"
     ]
    },
    {
     "data": {
      "text/plain": "Map:   0%|          | 0/760 [00:00<?, ? examples/s]",
      "application/vnd.jupyter.widget-view+json": {
       "version_major": 2,
       "version_minor": 0,
       "model_id": "90d5df7f554f417bbf365f716fac8546"
      }
     },
     "metadata": {},
     "output_type": "display_data"
    },
    {
     "name": "stderr",
     "output_type": "stream",
     "text": [
      "You're using a DistilBertTokenizerFast tokenizer. Please note that with a fast tokenizer, using the `__call__` method is faster than using a method to encode the text followed by a call to the `pad` method to get a padded encoding.\n"
     ]
    },
    {
     "name": "stdout",
     "output_type": "stream",
     "text": [
      "WARNING:tensorflow:Skipping full serialization of Keras layer <keras.layers.regularization.dropout.Dropout object at 0x7fc8013d1120>, because it is not built.\n"
     ]
    },
    {
     "name": "stderr",
     "output_type": "stream",
     "text": [
      "WARNING:tensorflow:Skipping full serialization of Keras layer <keras.layers.regularization.dropout.Dropout object at 0x7fc8013d1120>, because it is not built.\n"
     ]
    },
    {
     "name": "stdout",
     "output_type": "stream",
     "text": [
      "WARNING:tensorflow:Skipping full serialization of Keras layer <keras.layers.regularization.dropout.Dropout object at 0x7fc8013d3610>, because it is not built.\n"
     ]
    },
    {
     "name": "stderr",
     "output_type": "stream",
     "text": [
      "WARNING:tensorflow:Skipping full serialization of Keras layer <keras.layers.regularization.dropout.Dropout object at 0x7fc8013d3610>, because it is not built.\n"
     ]
    },
    {
     "name": "stdout",
     "output_type": "stream",
     "text": [
      "WARNING:tensorflow:Skipping full serialization of Keras layer <keras.layers.regularization.dropout.Dropout object at 0x7fc8279d5a50>, because it is not built.\n"
     ]
    },
    {
     "name": "stderr",
     "output_type": "stream",
     "text": [
      "WARNING:tensorflow:Skipping full serialization of Keras layer <keras.layers.regularization.dropout.Dropout object at 0x7fc8279d5a50>, because it is not built.\n"
     ]
    },
    {
     "name": "stdout",
     "output_type": "stream",
     "text": [
      "WARNING:tensorflow:Skipping full serialization of Keras layer <keras.layers.regularization.dropout.Dropout object at 0x7fc8279d7e50>, because it is not built.\n"
     ]
    },
    {
     "name": "stderr",
     "output_type": "stream",
     "text": [
      "WARNING:tensorflow:Skipping full serialization of Keras layer <keras.layers.regularization.dropout.Dropout object at 0x7fc8279d7e50>, because it is not built.\n"
     ]
    },
    {
     "name": "stdout",
     "output_type": "stream",
     "text": [
      "WARNING:tensorflow:Skipping full serialization of Keras layer <keras.layers.regularization.dropout.Dropout object at 0x7fc8016fa290>, because it is not built.\n"
     ]
    },
    {
     "name": "stderr",
     "output_type": "stream",
     "text": [
      "WARNING:tensorflow:Skipping full serialization of Keras layer <keras.layers.regularization.dropout.Dropout object at 0x7fc8016fa290>, because it is not built.\n"
     ]
    },
    {
     "name": "stdout",
     "output_type": "stream",
     "text": [
      "WARNING:tensorflow:Skipping full serialization of Keras layer <keras.layers.regularization.dropout.Dropout object at 0x7fc8017006d0>, because it is not built.\n"
     ]
    },
    {
     "name": "stderr",
     "output_type": "stream",
     "text": [
      "WARNING:tensorflow:Skipping full serialization of Keras layer <keras.layers.regularization.dropout.Dropout object at 0x7fc8017006d0>, because it is not built.\n",
      "WARNING:absl:Found untraced functions such as embeddings_layer_call_fn, embeddings_layer_call_and_return_conditional_losses, transformer_layer_call_fn, transformer_layer_call_and_return_conditional_losses, LayerNorm_layer_call_fn while saving (showing 5 of 164). These functions will not be directly callable after loading.\n"
     ]
    },
    {
     "name": "stdout",
     "output_type": "stream",
     "text": [
      "INFO:tensorflow:Assets written to: ram://bfbe08b8-0721-4eef-af7f-3e2f3181c3b6/assets\n"
     ]
    },
    {
     "name": "stderr",
     "output_type": "stream",
     "text": [
      "INFO:tensorflow:Assets written to: ram://bfbe08b8-0721-4eef-af7f-3e2f3181c3b6/assets\n"
     ]
    },
    {
     "data": {
      "text/plain": "Map:   0%|          | 0/190 [00:00<?, ? examples/s]",
      "application/vnd.jupyter.widget-view+json": {
       "version_major": 2,
       "version_minor": 0,
       "model_id": "6d7da070d00f4c4a8392d74c7819ce95"
      }
     },
     "metadata": {},
     "output_type": "display_data"
    }
   ],
   "source": [
    "tf_train_v3, tf_test_v3 = model_v3.prepare_train_test_data(dataset)"
   ]
  },
  {
   "cell_type": "code",
   "execution_count": 7,
   "metadata": {
    "collapsed": false,
    "ExecuteTime": {
     "start_time": "2023-05-25T17:00:03.884918Z",
     "end_time": "2023-05-25T17:10:30.483759Z"
    }
   },
   "outputs": [
    {
     "name": "stdout",
     "output_type": "stream",
     "text": [
      "Epoch 1/5\n",
      "47/47 [==============================] - 123s 3s/step - loss: 0.4016 - accuracy: 0.8311 - f1_m: 0.3375 - val_loss: 0.3436 - val_accuracy: 0.8693 - val_f1_m: 0.6422\n",
      "Epoch 2/5\n",
      "47/47 [==============================] - 122s 3s/step - loss: 0.1293 - accuracy: 0.9574 - f1_m: 0.6382 - val_loss: 0.2449 - val_accuracy: 0.9034 - val_f1_m: 0.6843\n",
      "Epoch 3/5\n",
      "47/47 [==============================] - 130s 3s/step - loss: 0.0665 - accuracy: 0.9801 - f1_m: 0.6375 - val_loss: 0.1676 - val_accuracy: 0.9432 - val_f1_m: 0.6755\n",
      "Epoch 4/5\n",
      "47/47 [==============================] - 126s 3s/step - loss: 0.0280 - accuracy: 0.9894 - f1_m: 0.6437 - val_loss: 0.2669 - val_accuracy: 0.9148 - val_f1_m: 0.6629\n",
      "Epoch 5/5\n",
      "47/47 [==============================] - 126s 3s/step - loss: 0.0422 - accuracy: 0.9854 - f1_m: 0.6472 - val_loss: 0.2078 - val_accuracy: 0.9318 - val_f1_m: 0.6754\n"
     ]
    },
    {
     "data": {
      "text/plain": "<keras.callbacks.History at 0x7fc827defbb0>"
     },
     "execution_count": 7,
     "metadata": {},
     "output_type": "execute_result"
    }
   ],
   "source": [
    "model_v3.compile()\n",
    "model_v3.fit(train_data=tf_train_v3, epochs=5, validation_data=tf_test_v3)"
   ]
  },
  {
   "cell_type": "code",
   "execution_count": 8,
   "metadata": {
    "collapsed": false,
    "ExecuteTime": {
     "start_time": "2023-05-25T17:10:30.484394Z",
     "end_time": "2023-05-25T17:10:30.488861Z"
    }
   },
   "outputs": [],
   "source": [
    "text = \"WhatsApp censors the messages that circulate on its platform if it believes that they are hoaxes with the help of the media that verify false information in Spain.\" # 0"
   ]
  },
  {
   "cell_type": "code",
   "execution_count": 9,
   "metadata": {
    "collapsed": false,
    "ExecuteTime": {
     "start_time": "2023-05-25T17:10:30.488080Z",
     "end_time": "2023-05-25T17:10:30.590071Z"
    }
   },
   "outputs": [
    {
     "name": "stdout",
     "output_type": "stream",
     "text": [
      "Predicted class: 0\n",
      "Probability distribution: [0.9959774  0.00402259]\n"
     ]
    }
   ],
   "source": [
    "prediction_1 = model_v3.classify_text(text=text)"
   ]
  },
  {
   "cell_type": "code",
   "execution_count": 10,
   "metadata": {
    "collapsed": false,
    "ExecuteTime": {
     "start_time": "2023-05-25T17:10:30.584541Z",
     "end_time": "2023-05-25T17:10:30.590741Z"
    }
   },
   "outputs": [],
   "source": [
    "text = \"Coronavirus: New Covid-19 tracing tool appears on smartphones\" # 1"
   ]
  },
  {
   "cell_type": "code",
   "execution_count": 11,
   "metadata": {
    "collapsed": false,
    "ExecuteTime": {
     "start_time": "2023-05-25T17:10:30.587092Z",
     "end_time": "2023-05-25T17:10:30.661224Z"
    }
   },
   "outputs": [
    {
     "name": "stdout",
     "output_type": "stream",
     "text": [
      "Predicted class: 1\n",
      "Probability distribution: [0.04872704 0.9512729 ]\n"
     ]
    }
   ],
   "source": [
    "prediction_2 = model_v3.classify_text(text=text)"
   ]
  },
  {
   "cell_type": "code",
   "execution_count": 12,
   "metadata": {
    "collapsed": false,
    "ExecuteTime": {
     "start_time": "2023-05-25T17:10:30.648299Z",
     "end_time": "2023-05-25T17:10:30.661688Z"
    }
   },
   "outputs": [],
   "source": [
    "COVID_MODEL_V3_PATH = \"/Users/adamdabkowski/PycharmProjects/NLP-Project/model/covid/model_v3.h5py\""
   ]
  },
  {
   "cell_type": "code",
   "execution_count": 13,
   "metadata": {
    "collapsed": false,
    "ExecuteTime": {
     "start_time": "2023-05-25T17:10:30.651195Z",
     "end_time": "2023-05-25T17:10:32.612215Z"
    }
   },
   "outputs": [],
   "source": [
    "model_v3.save_model(COVID_MODEL_V3_PATH)"
   ]
  }
 ],
 "metadata": {
  "kernelspec": {
   "display_name": "Python 3",
   "language": "python",
   "name": "python3"
  },
  "language_info": {
   "codemirror_mode": {
    "name": "ipython",
    "version": 3
   },
   "file_extension": ".py",
   "mimetype": "text/x-python",
   "name": "python",
   "nbconvert_exporter": "python",
   "pygments_lexer": "ipython3",
   "version": "3.9.16"
  }
 },
 "nbformat": 4,
 "nbformat_minor": 0
}
